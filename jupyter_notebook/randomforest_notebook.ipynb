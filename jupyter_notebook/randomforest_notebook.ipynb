{
  "cells": [
    {
      "cell_type": "markdown",
      "metadata": {},
      "source": [
        "# Random Forest Notebook"
      ]
    },
    {
      "cell_type": "code",
      "execution_count": 1,
      "metadata": {
        "id": "WBtxzybGbuTl"
      },
      "outputs": [],
      "source": [
        "import pandas as pd\n",
        "import numpy as np\n",
        "from sklearn.model_selection import train_test_split\n",
        "from sklearn.preprocessing import StandardScaler\n",
        "from sklearn.feature_selection import SelectKBest, f_classif\n",
        "from sklearn.metrics import classification_report, confusion_matrix\n",
        "from sklearn.svm import SVC\n",
        "from sklearn.tree import DecisionTreeClassifier\n",
        "from sklearn.ensemble import RandomForestClassifier, GradientBoostingClassifier\n",
        "import seaborn as sns\n",
        "import matplotlib.pyplot as plt"
      ]
    },
    {
      "cell_type": "markdown",
      "metadata": {
        "id": "tpprLUtycKL0"
      },
      "source": [
        "## Wczytanie danych\n"
      ]
    },
    {
      "cell_type": "code",
      "execution_count": 2,
      "metadata": {
        "id": "xnORpAIMcMtg"
      },
      "outputs": [
        {
          "data": {
            "text/html": [
              "<div>\n",
              "<style scoped>\n",
              "    .dataframe tbody tr th:only-of-type {\n",
              "        vertical-align: middle;\n",
              "    }\n",
              "\n",
              "    .dataframe tbody tr th {\n",
              "        vertical-align: top;\n",
              "    }\n",
              "\n",
              "    .dataframe thead th {\n",
              "        text-align: right;\n",
              "    }\n",
              "</style>\n",
              "<table border=\"1\" class=\"dataframe\">\n",
              "  <thead>\n",
              "    <tr style=\"text-align: right;\">\n",
              "      <th></th>\n",
              "      <th>OUTCOME</th>\n",
              "      <th>RADIUS_1</th>\n",
              "      <th>TEXTURE_1</th>\n",
              "      <th>PERIMETER_1</th>\n",
              "      <th>AREA_1</th>\n",
              "      <th>SMOOTHNESS_1</th>\n",
              "      <th>COMPACTNESS_1</th>\n",
              "      <th>CONCAVITY_1</th>\n",
              "      <th>CONCAVE_POINTS_1</th>\n",
              "      <th>SYMMETRY_1</th>\n",
              "      <th>...</th>\n",
              "      <th>PERIMETER_3</th>\n",
              "      <th>AREA_3</th>\n",
              "      <th>SMOOTHNESS_3</th>\n",
              "      <th>COMPACTNESS_3</th>\n",
              "      <th>CONCAVITY_3</th>\n",
              "      <th>CONCAVE_POINTS_3</th>\n",
              "      <th>SYMMETRY_3</th>\n",
              "      <th>FRACTAL_DIMENSIONS_3</th>\n",
              "      <th>TUMOR_SIZE</th>\n",
              "      <th>LYMPH_NODE_STATUS</th>\n",
              "    </tr>\n",
              "  </thead>\n",
              "  <tbody>\n",
              "    <tr>\n",
              "      <th>0</th>\n",
              "      <td>0</td>\n",
              "      <td>18.020000</td>\n",
              "      <td>27.600000</td>\n",
              "      <td>117.500000</td>\n",
              "      <td>1013.000000</td>\n",
              "      <td>0.094890</td>\n",
              "      <td>0.103600</td>\n",
              "      <td>0.108600</td>\n",
              "      <td>0.070550</td>\n",
              "      <td>0.186500</td>\n",
              "      <td>...</td>\n",
              "      <td>139.700000</td>\n",
              "      <td>1436.000000</td>\n",
              "      <td>0.119500</td>\n",
              "      <td>0.192600</td>\n",
              "      <td>0.314000</td>\n",
              "      <td>0.117000</td>\n",
              "      <td>0.267700</td>\n",
              "      <td>0.081130</td>\n",
              "      <td>5.000000</td>\n",
              "      <td>5.000000</td>\n",
              "    </tr>\n",
              "    <tr>\n",
              "      <th>1</th>\n",
              "      <td>0</td>\n",
              "      <td>17.990000</td>\n",
              "      <td>10.380000</td>\n",
              "      <td>122.800000</td>\n",
              "      <td>1001.000000</td>\n",
              "      <td>0.118400</td>\n",
              "      <td>0.277600</td>\n",
              "      <td>0.300100</td>\n",
              "      <td>0.147100</td>\n",
              "      <td>0.241900</td>\n",
              "      <td>...</td>\n",
              "      <td>184.600000</td>\n",
              "      <td>2019.000000</td>\n",
              "      <td>0.162200</td>\n",
              "      <td>0.665600</td>\n",
              "      <td>0.711900</td>\n",
              "      <td>0.265400</td>\n",
              "      <td>0.460100</td>\n",
              "      <td>0.118900</td>\n",
              "      <td>3.000000</td>\n",
              "      <td>2.000000</td>\n",
              "    </tr>\n",
              "    <tr>\n",
              "      <th>2</th>\n",
              "      <td>0</td>\n",
              "      <td>21.370000</td>\n",
              "      <td>17.440000</td>\n",
              "      <td>137.500000</td>\n",
              "      <td>1373.000000</td>\n",
              "      <td>0.088360</td>\n",
              "      <td>0.118900</td>\n",
              "      <td>0.125500</td>\n",
              "      <td>0.081800</td>\n",
              "      <td>0.233300</td>\n",
              "      <td>...</td>\n",
              "      <td>159.100000</td>\n",
              "      <td>1949.000000</td>\n",
              "      <td>0.118800</td>\n",
              "      <td>0.344900</td>\n",
              "      <td>0.341400</td>\n",
              "      <td>0.203200</td>\n",
              "      <td>0.433400</td>\n",
              "      <td>0.090670</td>\n",
              "      <td>2.500000</td>\n",
              "      <td>0.000000</td>\n",
              "    </tr>\n",
              "    <tr>\n",
              "      <th>3</th>\n",
              "      <td>0</td>\n",
              "      <td>11.420000</td>\n",
              "      <td>20.380000</td>\n",
              "      <td>77.580000</td>\n",
              "      <td>386.100000</td>\n",
              "      <td>0.142500</td>\n",
              "      <td>0.283900</td>\n",
              "      <td>0.241400</td>\n",
              "      <td>0.105200</td>\n",
              "      <td>0.259700</td>\n",
              "      <td>...</td>\n",
              "      <td>98.870000</td>\n",
              "      <td>567.700000</td>\n",
              "      <td>0.209800</td>\n",
              "      <td>0.866300</td>\n",
              "      <td>0.686900</td>\n",
              "      <td>0.257500</td>\n",
              "      <td>0.663800</td>\n",
              "      <td>0.173000</td>\n",
              "      <td>2.000000</td>\n",
              "      <td>0.000000</td>\n",
              "    </tr>\n",
              "    <tr>\n",
              "      <th>4</th>\n",
              "      <td>1</td>\n",
              "      <td>20.290000</td>\n",
              "      <td>14.340000</td>\n",
              "      <td>135.100000</td>\n",
              "      <td>1297.000000</td>\n",
              "      <td>0.100300</td>\n",
              "      <td>0.132800</td>\n",
              "      <td>0.198000</td>\n",
              "      <td>0.104300</td>\n",
              "      <td>0.180900</td>\n",
              "      <td>...</td>\n",
              "      <td>152.200000</td>\n",
              "      <td>1575.000000</td>\n",
              "      <td>0.137400</td>\n",
              "      <td>0.205000</td>\n",
              "      <td>0.400000</td>\n",
              "      <td>0.162500</td>\n",
              "      <td>0.236400</td>\n",
              "      <td>0.076780</td>\n",
              "      <td>3.500000</td>\n",
              "      <td>0.000000</td>\n",
              "    </tr>\n",
              "    <tr>\n",
              "      <th>...</th>\n",
              "      <td>...</td>\n",
              "      <td>...</td>\n",
              "      <td>...</td>\n",
              "      <td>...</td>\n",
              "      <td>...</td>\n",
              "      <td>...</td>\n",
              "      <td>...</td>\n",
              "      <td>...</td>\n",
              "      <td>...</td>\n",
              "      <td>...</td>\n",
              "      <td>...</td>\n",
              "      <td>...</td>\n",
              "      <td>...</td>\n",
              "      <td>...</td>\n",
              "      <td>...</td>\n",
              "      <td>...</td>\n",
              "      <td>...</td>\n",
              "      <td>...</td>\n",
              "      <td>...</td>\n",
              "      <td>...</td>\n",
              "      <td>...</td>\n",
              "    </tr>\n",
              "    <tr>\n",
              "      <th>297</th>\n",
              "      <td>1</td>\n",
              "      <td>20.026955</td>\n",
              "      <td>26.447778</td>\n",
              "      <td>135.085597</td>\n",
              "      <td>1257.432103</td>\n",
              "      <td>0.096783</td>\n",
              "      <td>0.184876</td>\n",
              "      <td>0.172653</td>\n",
              "      <td>0.109357</td>\n",
              "      <td>0.185664</td>\n",
              "      <td>...</td>\n",
              "      <td>171.289300</td>\n",
              "      <td>1882.995881</td>\n",
              "      <td>0.132166</td>\n",
              "      <td>0.485126</td>\n",
              "      <td>0.405787</td>\n",
              "      <td>0.191754</td>\n",
              "      <td>0.303419</td>\n",
              "      <td>0.091121</td>\n",
              "      <td>5.218107</td>\n",
              "      <td>9.917695</td>\n",
              "    </tr>\n",
              "    <tr>\n",
              "      <th>298</th>\n",
              "      <td>1</td>\n",
              "      <td>17.433955</td>\n",
              "      <td>21.816099</td>\n",
              "      <td>115.199748</td>\n",
              "      <td>959.636269</td>\n",
              "      <td>0.092011</td>\n",
              "      <td>0.127620</td>\n",
              "      <td>0.100975</td>\n",
              "      <td>0.075580</td>\n",
              "      <td>0.210960</td>\n",
              "      <td>...</td>\n",
              "      <td>138.999653</td>\n",
              "      <td>1321.191743</td>\n",
              "      <td>0.116899</td>\n",
              "      <td>0.275903</td>\n",
              "      <td>0.234718</td>\n",
              "      <td>0.152020</td>\n",
              "      <td>0.310379</td>\n",
              "      <td>0.075122</td>\n",
              "      <td>3.900032</td>\n",
              "      <td>1.199937</td>\n",
              "    </tr>\n",
              "    <tr>\n",
              "      <th>299</th>\n",
              "      <td>1</td>\n",
              "      <td>24.450253</td>\n",
              "      <td>18.960836</td>\n",
              "      <td>161.187481</td>\n",
              "      <td>1966.519188</td>\n",
              "      <td>0.090793</td>\n",
              "      <td>0.119089</td>\n",
              "      <td>0.180771</td>\n",
              "      <td>0.112794</td>\n",
              "      <td>0.160575</td>\n",
              "      <td>...</td>\n",
              "      <td>231.395676</td>\n",
              "      <td>3854.528911</td>\n",
              "      <td>0.117644</td>\n",
              "      <td>0.193159</td>\n",
              "      <td>0.308795</td>\n",
              "      <td>0.185801</td>\n",
              "      <td>0.237269</td>\n",
              "      <td>0.063876</td>\n",
              "      <td>3.070555</td>\n",
              "      <td>4.000000</td>\n",
              "    </tr>\n",
              "    <tr>\n",
              "      <th>300</th>\n",
              "      <td>1</td>\n",
              "      <td>19.635022</td>\n",
              "      <td>23.339172</td>\n",
              "      <td>128.800549</td>\n",
              "      <td>1192.500748</td>\n",
              "      <td>0.100584</td>\n",
              "      <td>0.116314</td>\n",
              "      <td>0.175905</td>\n",
              "      <td>0.100470</td>\n",
              "      <td>0.187260</td>\n",
              "      <td>...</td>\n",
              "      <td>148.704440</td>\n",
              "      <td>1480.529682</td>\n",
              "      <td>0.137292</td>\n",
              "      <td>0.265190</td>\n",
              "      <td>0.435569</td>\n",
              "      <td>0.186070</td>\n",
              "      <td>0.316944</td>\n",
              "      <td>0.070050</td>\n",
              "      <td>1.749875</td>\n",
              "      <td>10.001497</td>\n",
              "    </tr>\n",
              "    <tr>\n",
              "      <th>301</th>\n",
              "      <td>1</td>\n",
              "      <td>20.917890</td>\n",
              "      <td>22.240134</td>\n",
              "      <td>139.578989</td>\n",
              "      <td>1373.792566</td>\n",
              "      <td>0.100593</td>\n",
              "      <td>0.161285</td>\n",
              "      <td>0.199920</td>\n",
              "      <td>0.111609</td>\n",
              "      <td>0.209373</td>\n",
              "      <td>...</td>\n",
              "      <td>186.435983</td>\n",
              "      <td>2295.462210</td>\n",
              "      <td>0.137669</td>\n",
              "      <td>0.396576</td>\n",
              "      <td>0.501020</td>\n",
              "      <td>0.209414</td>\n",
              "      <td>0.353584</td>\n",
              "      <td>0.084842</td>\n",
              "      <td>2.777827</td>\n",
              "      <td>5.783503</td>\n",
              "    </tr>\n",
              "  </tbody>\n",
              "</table>\n",
              "<p>302 rows × 33 columns</p>\n",
              "</div>"
            ],
            "text/plain": [
              "     OUTCOME   RADIUS_1  TEXTURE_1  PERIMETER_1       AREA_1  SMOOTHNESS_1  \\\n",
              "0          0  18.020000  27.600000   117.500000  1013.000000      0.094890   \n",
              "1          0  17.990000  10.380000   122.800000  1001.000000      0.118400   \n",
              "2          0  21.370000  17.440000   137.500000  1373.000000      0.088360   \n",
              "3          0  11.420000  20.380000    77.580000   386.100000      0.142500   \n",
              "4          1  20.290000  14.340000   135.100000  1297.000000      0.100300   \n",
              "..       ...        ...        ...          ...          ...           ...   \n",
              "297        1  20.026955  26.447778   135.085597  1257.432103      0.096783   \n",
              "298        1  17.433955  21.816099   115.199748   959.636269      0.092011   \n",
              "299        1  24.450253  18.960836   161.187481  1966.519188      0.090793   \n",
              "300        1  19.635022  23.339172   128.800549  1192.500748      0.100584   \n",
              "301        1  20.917890  22.240134   139.578989  1373.792566      0.100593   \n",
              "\n",
              "     COMPACTNESS_1  CONCAVITY_1  CONCAVE_POINTS_1  SYMMETRY_1  ...  \\\n",
              "0         0.103600     0.108600          0.070550    0.186500  ...   \n",
              "1         0.277600     0.300100          0.147100    0.241900  ...   \n",
              "2         0.118900     0.125500          0.081800    0.233300  ...   \n",
              "3         0.283900     0.241400          0.105200    0.259700  ...   \n",
              "4         0.132800     0.198000          0.104300    0.180900  ...   \n",
              "..             ...          ...               ...         ...  ...   \n",
              "297       0.184876     0.172653          0.109357    0.185664  ...   \n",
              "298       0.127620     0.100975          0.075580    0.210960  ...   \n",
              "299       0.119089     0.180771          0.112794    0.160575  ...   \n",
              "300       0.116314     0.175905          0.100470    0.187260  ...   \n",
              "301       0.161285     0.199920          0.111609    0.209373  ...   \n",
              "\n",
              "     PERIMETER_3       AREA_3  SMOOTHNESS_3  COMPACTNESS_3  CONCAVITY_3  \\\n",
              "0     139.700000  1436.000000      0.119500       0.192600     0.314000   \n",
              "1     184.600000  2019.000000      0.162200       0.665600     0.711900   \n",
              "2     159.100000  1949.000000      0.118800       0.344900     0.341400   \n",
              "3      98.870000   567.700000      0.209800       0.866300     0.686900   \n",
              "4     152.200000  1575.000000      0.137400       0.205000     0.400000   \n",
              "..           ...          ...           ...            ...          ...   \n",
              "297   171.289300  1882.995881      0.132166       0.485126     0.405787   \n",
              "298   138.999653  1321.191743      0.116899       0.275903     0.234718   \n",
              "299   231.395676  3854.528911      0.117644       0.193159     0.308795   \n",
              "300   148.704440  1480.529682      0.137292       0.265190     0.435569   \n",
              "301   186.435983  2295.462210      0.137669       0.396576     0.501020   \n",
              "\n",
              "     CONCAVE_POINTS_3  SYMMETRY_3  FRACTAL_DIMENSIONS_3  TUMOR_SIZE  \\\n",
              "0            0.117000    0.267700              0.081130    5.000000   \n",
              "1            0.265400    0.460100              0.118900    3.000000   \n",
              "2            0.203200    0.433400              0.090670    2.500000   \n",
              "3            0.257500    0.663800              0.173000    2.000000   \n",
              "4            0.162500    0.236400              0.076780    3.500000   \n",
              "..                ...         ...                   ...         ...   \n",
              "297          0.191754    0.303419              0.091121    5.218107   \n",
              "298          0.152020    0.310379              0.075122    3.900032   \n",
              "299          0.185801    0.237269              0.063876    3.070555   \n",
              "300          0.186070    0.316944              0.070050    1.749875   \n",
              "301          0.209414    0.353584              0.084842    2.777827   \n",
              "\n",
              "     LYMPH_NODE_STATUS  \n",
              "0             5.000000  \n",
              "1             2.000000  \n",
              "2             0.000000  \n",
              "3             0.000000  \n",
              "4             0.000000  \n",
              "..                 ...  \n",
              "297           9.917695  \n",
              "298           1.199937  \n",
              "299           4.000000  \n",
              "300          10.001497  \n",
              "301           5.783503  \n",
              "\n",
              "[302 rows x 33 columns]"
            ]
          },
          "execution_count": 2,
          "metadata": {},
          "output_type": "execute_result"
        }
      ],
      "source": [
        "\n",
        "data = pd.read_csv(\"../dataset/wpbc_original_B.csv\")\n",
        "data_normalized = pd.read_csv(\"../dataset/wpbc_normalized_B.csv\")\n",
        "data_best_features = pd.read_csv(\"../dataset/wpbc_best_features_B.csv\")\n",
        "data"
      ]
    },
    {
      "cell_type": "markdown",
      "metadata": {
        "id": "hWSVgRN6ctcH"
      },
      "source": [
        "#Podział na cechy i zmienną docelową"
      ]
    },
    {
      "cell_type": "code",
      "execution_count": 3,
      "metadata": {
        "id": "S86DpVdvcsKq"
      },
      "outputs": [],
      "source": [
        "X = data.drop(\"OUTCOME\", axis=1)\n",
        "y = data[\"OUTCOME\"]\n",
        "X_n = data_normalized.drop(\"OUTCOME\", axis=1)\n",
        "y_n = data_normalized[\"OUTCOME\"]\n",
        "X_b = data_best_features.drop(\"OUTCOME\", axis=1)\n",
        "y_b = data_best_features[\"OUTCOME\"]"
      ]
    },
    {
      "cell_type": "markdown",
      "metadata": {
        "id": "gxl2cyDFdSiw"
      },
      "source": [
        "## Podział na zbiór treningowy i testowy"
      ]
    },
    {
      "cell_type": "code",
      "execution_count": 4,
      "metadata": {
        "id": "lPTboRdhdWzo"
      },
      "outputs": [],
      "source": [
        "X_train, X_test, y_train, y_test = train_test_split(X, y, test_size=0.25, random_state=42)\n",
        "X_n_train, X_n_test, y_n_train, y_n_test = train_test_split(X_n, y_n, test_size=0.25, random_state=42)\n",
        "X_b_train, X_b_test, y_b_train, y_b_test = train_test_split(X_b, y_b, test_size=0.25, random_state=42)"
      ]
    },
    {
      "cell_type": "markdown",
      "metadata": {
        "id": "W7M3uszod4kk"
      },
      "source": [
        "## Random Forest dev"
      ]
    },
    {
      "cell_type": "code",
      "execution_count": 5,
      "metadata": {
        "colab": {
          "base_uri": "https://localhost:8080/"
        },
        "id": "M1r3VDKEd6kJ",
        "outputId": "c302c3c2-55e0-443f-8efc-5eafc658b8c3"
      },
      "outputs": [
        {
          "name": "stdout",
          "output_type": "stream",
          "text": [
            "\n",
            "Random Forest:\n",
            "Confusion Matrix:\n",
            " [[27  7]\n",
            " [ 8 34]]\n",
            "\n",
            "Classification Report:\n",
            "               precision    recall  f1-score   support\n",
            "\n",
            "           0       0.77      0.79      0.78        34\n",
            "           1       0.83      0.81      0.82        42\n",
            "\n",
            "    accuracy                           0.80        76\n",
            "   macro avg       0.80      0.80      0.80        76\n",
            "weighted avg       0.80      0.80      0.80        76\n",
            "\n"
          ]
        }
      ],
      "source": [
        "rf = RandomForestClassifier(random_state=42, max_depth=8, criterion='entropy')\n",
        "rf_n = RandomForestClassifier(random_state=42, max_depth=8, criterion='entropy')\n",
        "rf_b = RandomForestClassifier(random_state=42, max_depth=8, criterion='entropy')\n",
        "rf.fit(X_train, y_train)\n",
        "rf_n.fit(X_n_train, y_n_train)\n",
        "rf_b.fit(X_b_train, y_b_train)\n",
        "y_pred_rf = rf.predict(X_test)\n",
        "y_pred_rf_n = rf_n.predict(X_n_test)\n",
        "y_pred_rf_b = rf_b.predict(X_b_test)\n",
        "print(\"\\nRandom Forest:\")\n",
        "print(\"Confusion Matrix:\\n\", confusion_matrix(y_test, y_pred_rf))\n",
        "print(\"\\nClassification Report:\\n\", classification_report(y_test, y_pred_rf))"
      ]
    },
    {
      "cell_type": "code",
      "execution_count": 6,
      "metadata": {
        "id": "lr8Gzo6gnDpC"
      },
      "outputs": [],
      "source": [
        "from sklearn.model_selection import GridSearchCV"
      ]
    },
    {
      "cell_type": "code",
      "execution_count": 7,
      "metadata": {
        "colab": {
          "base_uri": "https://localhost:8080/"
        },
        "id": "k0LQ19WjmMDa",
        "outputId": "97d175e1-8a51-4aa3-bc2a-200f331be19b"
      },
      "outputs": [
        {
          "data": {
            "text/plain": [
              "{'criterion': 'gini', 'max_depth': np.int64(5)}"
            ]
          },
          "execution_count": 7,
          "metadata": {},
          "output_type": "execute_result"
        }
      ],
      "source": [
        "grid = {\n",
        "    'max_depth': np.arange(1,10,1),\n",
        "    'criterion': ['gini','entropy']\n",
        "}\n",
        "search = GridSearchCV(\n",
        "    estimator=rf,\n",
        "    param_grid=grid,\n",
        "    scoring='accuracy',\n",
        "    cv=3,\n",
        "    n_jobs=-1\n",
        ")\n",
        "results = search.fit(X=X_train, y=y_train)\n",
        "results.best_params_"
      ]
    },
    {
      "cell_type": "markdown",
      "metadata": {
        "id": "JNHvm3q3eDf2"
      },
      "source": [
        "## Wizualizacja wyników"
      ]
    },
    {
      "cell_type": "code",
      "execution_count": 8,
      "metadata": {
        "id": "khJtg0c1eE83"
      },
      "outputs": [],
      "source": [
        "def plot_confusion_matrix(y_true, y_pred, title):\n",
        "    cm = confusion_matrix(y_true, y_pred)\n",
        "    sns.heatmap(cm, annot=True, fmt='d', cmap='Blues')\n",
        "    plt.xlabel(\"Predicted\")\n",
        "    plt.ylabel(\"Actual\")\n",
        "    plt.title(title)\n",
        "    plt.show()"
      ]
    },
    {
      "cell_type": "code",
      "execution_count": 9,
      "metadata": {
        "colab": {
          "base_uri": "https://localhost:8080/",
          "height": 1000
        },
        "id": "zk7IN7YYeNXJ",
        "outputId": "5f595fee-7304-4731-aec0-b47297862dac"
      },
      "outputs": [
        {
          "data": {
            "image/png": "[encoded data removed]",
            "text/plain": [
              "<Figure size 640x480 with 2 Axes>"
            ]
          },
          "metadata": {},
          "output_type": "display_data"
        },
        {
          "data": {
            "image/png": "[encoded data removed]",
            "text/plain": [
              "<Figure size 640x480 with 2 Axes>"
            ]
          },
          "metadata": {},
          "output_type": "display_data"
        },
        {
          "data": {
            "image/png": "[encoded data removed]",
            "text/plain": [
              "<Figure size 640x480 with 2 Axes>"
            ]
          },
          "metadata": {},
          "output_type": "display_data"
        }
      ],
      "source": [
        "\n",
        "plot_confusion_matrix(y_test, y_pred_rf, \"Original\")\n",
        "\n",
        "plot_confusion_matrix(y_n_test, y_pred_rf_n, \"Normalized\")\n",
        "\n",
        "plot_confusion_matrix(y_b_test, y_pred_rf_b, \"Best Features\")\n",
        "\n"
      ]
    }
  ],
  "metadata": {
    "colab": {
      "provenance": []
    },
    "kernelspec": {
      "display_name": ".venv",
      "language": "python",
      "name": "python3"
    },
    "language_info": {
      "codemirror_mode": {
        "name": "ipython",
        "version": 3
      },
      "file_extension": ".py",
      "mimetype": "text/x-python",
      "name": "python",
      "nbconvert_exporter": "python",
      "pygments_lexer": "ipython3",
      "version": "3.12.3"
    }
  },
  "nbformat": 4,
  "nbformat_minor": 0
}
