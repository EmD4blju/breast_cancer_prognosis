{
 "cells": [
  {
   "cell_type": "markdown",
   "metadata": {},
   "source": [
    "# SVM notebook"
   ]
  },
  {
   "cell_type": "markdown",
   "metadata": {},
   "source": [
    "### Imports"
   ]
  },
  {
   "cell_type": "code",
   "execution_count": 89,
   "metadata": {},
   "outputs": [],
   "source": [
    "import pandas as pd\n",
    "from sklearn.svm import SVC\n",
    "from sklearn.model_selection import train_test_split\n",
    "from sklearn.metrics import classification_report\n",
    "import matplotlib.pyplot as plt\n",
    "import seaborn as sns\n",
    "from sklearn.metrics import confusion_matrix"
   ]
  },
  {
   "cell_type": "markdown",
   "metadata": {},
   "source": [
    "### Load datasets"
   ]
  },
  {
   "cell_type": "code",
   "execution_count": 90,
   "metadata": {},
   "outputs": [],
   "source": [
    "wpbc_original = pd.read_csv(\n",
    "    '../dataset/wpbc_original_B.csv',\n",
    "    sep=',',\n",
    "    header=0\n",
    ")\n",
    "wpbc_original\n",
    "\n",
    "wpbc_normalized = pd.read_csv(\n",
    "    '../dataset/wpbc_normalized_B.csv',\n",
    "    sep=',',\n",
    "    header=0\n",
    ")\n",
    "wpbc_normalized\n",
    "\n",
    "wpbc_best = pd.read_csv(\n",
    "    '../dataset/wpbc_best_features_B.csv',\n",
    "    sep=',',\n",
    "    header=0\n",
    ")"
   ]
  },
  {
   "cell_type": "code",
   "execution_count": 91,
   "metadata": {},
   "outputs": [],
   "source": [
    "(original_train, original_test) = train_test_split(wpbc_original, test_size=0.25, train_size=0.75, shuffle=True)\n",
    "\n",
    "original_train_labels = original_train['OUTCOME']\n",
    "original_train_features = original_train.iloc[:,2:]\n",
    "original_test_labels = original_test['OUTCOME']\n",
    "original_test_features = original_test.iloc[:,2:]\n",
    "\n",
    "(normalized_train, normalized_test) = train_test_split(wpbc_normalized, test_size=0.25, train_size=0.75, shuffle=True)\n",
    "\n",
    "normalized_train_labels = normalized_train['OUTCOME']\n",
    "normalized_train_features = normalized_train.iloc[:,2:]\n",
    "normalized_test_labels = normalized_test['OUTCOME']\n",
    "normalized_test_features = normalized_test.iloc[:,2:]\n",
    "\n",
    "(best_train, best_test) = train_test_split(wpbc_best, test_size=0.25, train_size=0.75, shuffle=True)\n",
    "\n",
    "best_train_labels = normalized_train['OUTCOME']\n",
    "best_train_features = normalized_train.iloc[:,2:]\n",
    "best_test_labels = normalized_test['OUTCOME']\n",
    "best_test_features = normalized_test.iloc[:,2:]"
   ]
  },
  {
   "cell_type": "markdown",
   "metadata": {},
   "source": [
    "# Model development"
   ]
  },
  {
   "cell_type": "code",
   "execution_count": 92,
   "metadata": {},
   "outputs": [],
   "source": [
    "def plot_confusion_matrix(y_true, y_pred, title):\n",
    "    cm = confusion_matrix(y_true, y_pred)\n",
    "    sns.heatmap(cm, annot=True, fmt='d', cmap='Blues')\n",
    "    plt.xlabel(\"Predicted\")\n",
    "    plt.ylabel(\"Actual\")\n",
    "    plt.title(title)\n",
    "    plt.show()"
   ]
  },
  {
   "cell_type": "markdown",
   "metadata": {},
   "source": [
    "## Original dataset"
   ]
  },
  {
   "cell_type": "markdown",
   "metadata": {},
   "source": [
    "### SVC dev"
   ]
  },
  {
   "cell_type": "code",
   "execution_count": 93,
   "metadata": {},
   "outputs": [
    {
     "name": "stdout",
     "output_type": "stream",
     "text": [
      "              precision    recall  f1-score   support\n",
      "\n",
      "           0       0.58      0.58      0.58        31\n",
      "           1       0.71      0.71      0.71        45\n",
      "\n",
      "    accuracy                           0.66        76\n",
      "   macro avg       0.65      0.65      0.65        76\n",
      "weighted avg       0.66      0.66      0.66        76\n",
      "\n"
     ]
    }
   ],
   "source": [
    "svc_classifier = SVC(\n",
    "    C=10,\n",
    "    kernel='linear',\n",
    "    gamma='auto'\n",
    ")\n",
    "\n",
    "svc_classifier.fit(\n",
    "    X=original_train_features,\n",
    "    y=original_train_labels\n",
    ")\n",
    "\n",
    "predictions = svc_classifier.predict(\n",
    "    X=original_test_features\n",
    ")\n",
    "report = classification_report(\n",
    "    y_true=original_test_labels,\n",
    "    y_pred=predictions\n",
    ")\n",
    "print(report)"
   ]
  },
  {
   "cell_type": "code",
   "execution_count": 94,
   "metadata": {},
   "outputs": [
    {
     "data": {
      "image/png": "[encoded data removed]",
      "text/plain": [
       "<Figure size 640x480 with 2 Axes>"
      ]
     },
     "metadata": {},
     "output_type": "display_data"
    }
   ],
   "source": [
    "plot_confusion_matrix(original_test_labels, predictions, 'Original')"
   ]
  },
  {
   "cell_type": "markdown",
   "metadata": {},
   "source": [
    "## Normalized dataset"
   ]
  },
  {
   "cell_type": "code",
   "execution_count": 95,
   "metadata": {},
   "outputs": [
    {
     "name": "stdout",
     "output_type": "stream",
     "text": [
      "              precision    recall  f1-score   support\n",
      "\n",
      "           0       0.59      0.65      0.62        34\n",
      "           1       0.69      0.64      0.67        42\n",
      "\n",
      "    accuracy                           0.64        76\n",
      "   macro avg       0.64      0.64      0.64        76\n",
      "weighted avg       0.65      0.64      0.65        76\n",
      "\n"
     ]
    }
   ],
   "source": [
    "svc_classifier.fit(\n",
    "    X=normalized_train_features,\n",
    "    y=normalized_train_labels\n",
    ")\n",
    "\n",
    "predictions = svc_classifier.predict(\n",
    "    X=normalized_test_features\n",
    ")\n",
    "report = classification_report(\n",
    "    y_true=normalized_test_labels,\n",
    "    y_pred=predictions\n",
    ")\n",
    "print(report)"
   ]
  },
  {
   "cell_type": "code",
   "execution_count": 96,
   "metadata": {},
   "outputs": [
    {
     "data": {
      "image/png": "[encoded data removed]",
      "text/plain": [
       "<Figure size 640x480 with 2 Axes>"
      ]
     },
     "metadata": {},
     "output_type": "display_data"
    }
   ],
   "source": [
    "plot_confusion_matrix(normalized_test_labels, predictions, 'Normalized')"
   ]
  },
  {
   "cell_type": "markdown",
   "metadata": {},
   "source": [
    "## Best features dataset"
   ]
  },
  {
   "cell_type": "code",
   "execution_count": 97,
   "metadata": {},
   "outputs": [
    {
     "name": "stdout",
     "output_type": "stream",
     "text": [
      "              precision    recall  f1-score   support\n",
      "\n",
      "           0       0.59      0.65      0.62        34\n",
      "           1       0.69      0.64      0.67        42\n",
      "\n",
      "    accuracy                           0.64        76\n",
      "   macro avg       0.64      0.64      0.64        76\n",
      "weighted avg       0.65      0.64      0.65        76\n",
      "\n"
     ]
    }
   ],
   "source": [
    "svc_classifier.fit(\n",
    "    X=best_train_features,\n",
    "    y=best_train_labels\n",
    ")\n",
    "\n",
    "predictions = svc_classifier.predict(\n",
    "    X=best_test_features\n",
    ")\n",
    "report = classification_report(\n",
    "    y_true=best_test_labels,\n",
    "    y_pred=predictions\n",
    ")\n",
    "print(report)"
   ]
  },
  {
   "cell_type": "code",
   "execution_count": 98,
   "metadata": {},
   "outputs": [
    {
     "data": {
      "image/png": "[encoded data removed]",
      "text/plain": [
       "<Figure size 640x480 with 2 Axes>"
      ]
     },
     "metadata": {},
     "output_type": "display_data"
    }
   ],
   "source": [
    "plot_confusion_matrix(best_test_labels, predictions, 'Best')"
   ]
  }
 ],
 "metadata": {
  "kernelspec": {
   "display_name": ".venv",
   "language": "python",
   "name": "python3"
  },
  "language_info": {
   "codemirror_mode": {
    "name": "ipython",
    "version": 3
   },
   "file_extension": ".py",
   "mimetype": "text/x-python",
   "name": "python",
   "nbconvert_exporter": "python",
   "pygments_lexer": "ipython3",
   "version": "3.12.3"
  }
 },
 "nbformat": 4,
 "nbformat_minor": 2
}
