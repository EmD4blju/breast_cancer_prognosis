{
 "cells": [
  {
   "cell_type": "markdown",
   "metadata": {},
   "source": [
    "# SVM notebook"
   ]
  },
  {
   "cell_type": "markdown",
   "metadata": {},
   "source": [
    "### Imports"
   ]
  },
  {
   "cell_type": "code",
   "execution_count": 1,
   "metadata": {},
   "outputs": [],
   "source": [
    "import pandas as pd\n",
    "import numpy as np\n",
    "import seaborn as sns\n",
    "import matplotlib.pyplot as plt\n",
    "from sklearn.svm import SVC, NuSVC, LinearSVC\n",
    "from sklearn.ensemble import RandomForestClassifier\n",
    "from sklearn.model_selection import train_test_split\n",
    "from sklearn.metrics import classification_report, f1_score, accuracy_score, recall_score, precision_score\n",
    "from sklearn.model_selection import GridSearchCV\n",
    "from sklearn.naive_bayes import GaussianNB"
   ]
  },
  {
   "cell_type": "markdown",
   "metadata": {},
   "source": [
    "### Load datasets"
   ]
  },
  {
   "cell_type": "code",
   "execution_count": 5,
   "metadata": {},
   "outputs": [],
   "source": [
    "wpbc_original = pd.read_csv(\n",
    "    '../dataset/wpbc_original_B.csv',\n",
    "    sep=',',\n",
    "    header=0\n",
    ")\n",
    "wpbc_original"
   ]
  },
  {
   "cell_type": "code",
   "execution_count": 7,
   "metadata": {},
   "outputs": [],
   "source": [
    "(original_train, original_test) = train_test_split(wpbc_original, test_size=0.25, train_size=0.75, shuffle=True)\n",
    "\n",
    "original_train_labels = original_train['OUTCOME']\n",
    "original_train_features = original_train.iloc[:,2:]\n",
    "original_test_labels = original_test['OUTCOME']\n",
    "original_test_features = original_test.iloc[:,2:]"
   ]
  },
  {
   "cell_type": "markdown",
   "metadata": {},
   "source": [
    "# Model development"
   ]
  },
  {
   "cell_type": "markdown",
   "metadata": {},
   "source": [
    "## Original dataset"
   ]
  },
  {
   "cell_type": "markdown",
   "metadata": {},
   "source": [
    "### SVC dev"
   ]
  },
  {
   "cell_type": "code",
   "execution_count": 8,
   "metadata": {},
   "outputs": [
    {
     "name": "stdout",
     "output_type": "stream",
     "text": [
      "0.7631578947368421 0.7272727272727273 0.6666666666666666 0.8\n"
     ]
    }
   ],
   "source": [
    "svc_classifier = SVC(\n",
    "    C=5.5,\n",
    "    kernel='linear',\n",
    "    gamma='scale',\n",
    "    class_weight='balanced'\n",
    ")\n",
    "\n",
    "svc_classifier.fit(\n",
    "    X=original_train_features,\n",
    "    y=original_train_labels\n",
    ")\n",
    "\n",
    "predictions = svc_classifier.predict(\n",
    "    X=original_test_features\n",
    ")\n",
    "acc = accuracy_score(y_true=original_test_labels, y_pred=predictions)\n",
    "f1 = f1_score(y_true=original_test_labels, y_pred=predictions, zero_division=0)\n",
    "rec = recall_score(y_true=original_test_labels, y_pred=predictions, zero_division=0)\n",
    "prec = precision_score(y_true=original_test_labels, y_pred=predictions, zero_division=0)\n",
    "print(acc, f1, rec, prec)"
   ]
  }
 ],
 "metadata": {
  "kernelspec": {
   "display_name": ".venv",
   "language": "python",
   "name": "python3"
  },
  "language_info": {
   "codemirror_mode": {
    "name": "ipython",
    "version": 3
   },
   "file_extension": ".py",
   "mimetype": "text/x-python",
   "name": "python",
   "nbconvert_exporter": "python",
   "pygments_lexer": "ipython3",
   "version": "3.12.3"
  }
 },
 "nbformat": 4,
 "nbformat_minor": 2
}
