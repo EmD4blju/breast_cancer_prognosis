{
 "cells": [
  {
   "cell_type": "code",
   "execution_count": 22,
   "metadata": {},
   "outputs": [],
   "source": [
    "import pandas as pd\n",
    "import numpy as np\n",
    "from sklearn.model_selection import train_test_split\n",
    "from imblearn.over_sampling import SMOTE"
   ]
  },
  {
   "cell_type": "code",
   "execution_count": 23,
   "metadata": {},
   "outputs": [
    {
     "data": {
      "text/plain": [
       "OUTCOME\n",
       "0    151\n",
       "1     47\n",
       "Name: count, dtype: int64"
      ]
     },
     "execution_count": 23,
     "metadata": {},
     "output_type": "execute_result"
    }
   ],
   "source": [
    "wpbc = pd.read_csv(\n",
    "    filepath_or_buffer='../dataset/wpbc_best_features.csv',\n",
    "    sep=',',\n",
    "    header=0\n",
    ")\n",
    "\n",
    "wpbc['OUTCOME'].value_counts()"
   ]
  },
  {
   "cell_type": "code",
   "execution_count": 24,
   "metadata": {},
   "outputs": [],
   "source": [
    "wpbc_outcomes = wpbc['OUTCOME']\n",
    "wpbc_features = wpbc.iloc[:, 2:]\n",
    "balancer = SMOTE()\n",
    "(balanced_wpbc_features, balanced_wpbc_outcomes) = balancer.fit_resample(X=wpbc_features, y=wpbc_outcomes)\n",
    "\n",
    "balanced_wpbc = pd.merge(\n",
    "    left=balanced_wpbc_outcomes,\n",
    "    right=balanced_wpbc_features,\n",
    "    left_index=True,\n",
    "    right_index=True\n",
    ")\n",
    "\n",
    "\n",
    "balanced_wpbc.to_csv(\n",
    "    path_or_buf='../dataset/wpbc_best_features_B.csv',\n",
    "    sep=','\n",
    ")"
   ]
  }
 ],
 "metadata": {
  "kernelspec": {
   "display_name": ".venv",
   "language": "python",
   "name": "python3"
  },
  "language_info": {
   "codemirror_mode": {
    "name": "ipython",
    "version": 3
   },
   "file_extension": ".py",
   "mimetype": "text/x-python",
   "name": "python",
   "nbconvert_exporter": "python",
   "pygments_lexer": "ipython3",
   "version": "3.12.3"
  }
 },
 "nbformat": 4,
 "nbformat_minor": 2
}
